{
 "cells": [
  {
   "cell_type": "markdown",
   "id": "fce7b01f",
   "metadata": {},
   "source": [
    "# Set Up and Data Import"
   ]
  },
  {
   "cell_type": "code",
   "execution_count": 5,
   "id": "76f62133",
   "metadata": {},
   "outputs": [],
   "source": [
    "# Import libraries\n",
    "import pandas as pd\n",
    "import matplotlib.pyplot as plt\n"
   ]
  },
  {
   "cell_type": "code",
   "execution_count": 6,
   "id": "4beb44e5",
   "metadata": {},
   "outputs": [],
   "source": [
    "# Loading dataset\n",
    "fifa_data = pd.read_csv('fifa_dataset.csv')"
   ]
  },
  {
   "cell_type": "markdown",
   "id": "aaad2f6d",
   "metadata": {},
   "source": []
  },
  {
   "cell_type": "markdown",
   "id": "d870a942",
   "metadata": {},
   "source": [
    "# Data Exploration"
   ]
  },
  {
   "cell_type": "code",
   "execution_count": 7,
   "id": "ded0e6c9",
   "metadata": {},
   "outputs": [
    {
     "name": "stdout",
     "output_type": "stream",
     "text": [
      "       Name   Age           Club  Overall  Potential Position  Value (€M)\n",
      "0  Player 1   NaN            PSG       82         83       GK       71.01\n",
      "1  Player 2  37.0            PSG       88         93       RW       82.27\n",
      "2  Player 3  32.0       Man City       70         71       ST         NaN\n",
      "3  Player 4  28.0       Juventus       77         77       ST       85.94\n",
      "4  Player 5  25.0  Bayern Munich       71         76       No      108.06\n"
     ]
    }
   ],
   "source": [
    "# First 5 rows\n",
    "print(fifa_data.head())"
   ]
  },
  {
   "cell_type": "code",
   "execution_count": 8,
   "id": "bc992cf8",
   "metadata": {},
   "outputs": [
    {
     "name": "stdout",
     "output_type": "stream",
     "text": [
      "           Name   Age           Club  Overall  Potential Position  Value (€M)\n",
      "195  Player 196  19.0       Juventus       80         81       CB         NaN\n",
      "196  Player 197  38.0       Juventus       65         70       LW       51.18\n",
      "197  Player 198  29.0            PSG       60         63       CB       16.74\n",
      "198  Player 199  23.0    Real Madrid       64         64       No      108.17\n",
      "199  Player 200  21.0  Bayern Munich       71         75       CM       83.26\n"
     ]
    }
   ],
   "source": [
    "# Last 5 rows\n",
    "\n",
    "print(fifa_data.tail())"
   ]
  },
  {
   "cell_type": "code",
   "execution_count": 9,
   "id": "cc8c296d",
   "metadata": {},
   "outputs": [
    {
     "name": "stdout",
     "output_type": "stream",
     "text": [
      "<class 'pandas.core.frame.DataFrame'>\n",
      "RangeIndex: 200 entries, 0 to 199\n",
      "Data columns (total 7 columns):\n",
      " #   Column      Non-Null Count  Dtype  \n",
      "---  ------      --------------  -----  \n",
      " 0   Name        200 non-null    object \n",
      " 1   Age         180 non-null    float64\n",
      " 2   Club        180 non-null    object \n",
      " 3   Overall     200 non-null    int64  \n",
      " 4   Potential   200 non-null    int64  \n",
      " 5   Position    200 non-null    object \n",
      " 6   Value (€M)  180 non-null    float64\n",
      "dtypes: float64(2), int64(2), object(3)\n",
      "memory usage: 11.1+ KB\n",
      "None\n"
     ]
    }
   ],
   "source": [
    "# Exploring dataset\n",
    "print(fifa_data.info())"
   ]
  },
  {
   "cell_type": "markdown",
   "id": "689b8240",
   "metadata": {},
   "source": []
  },
  {
   "cell_type": "code",
   "execution_count": 10,
   "id": "d4d10de5",
   "metadata": {},
   "outputs": [
    {
     "name": "stdout",
     "output_type": "stream",
     "text": [
      "              Age     Overall   Potential  Value (€M)\n",
      "count  180.000000  200.000000  200.000000  180.000000\n",
      "mean    27.527778   76.390000   78.980000   63.574500\n",
      "std      6.263694   10.239734   10.295123   31.967978\n",
      "min     18.000000   60.000000   60.000000    2.450000\n",
      "25%     22.000000   67.750000   70.000000   38.067500\n",
      "50%     27.000000   76.000000   78.000000   65.235000\n",
      "75%     32.000000   86.000000   88.000000   90.565000\n",
      "max     39.000000   94.000000   98.000000  119.730000\n"
     ]
    }
   ],
   "source": [
    "# Exploring the dataset\n",
    "print(fifa_data.describe())"
   ]
  },
  {
   "cell_type": "markdown",
   "id": "e0f18e01",
   "metadata": {},
   "source": [
    "# Data Cleaning"
   ]
  },
  {
   "cell_type": "code",
   "execution_count": 11,
   "id": "ecc6dfa4",
   "metadata": {},
   "outputs": [
    {
     "name": "stdout",
     "output_type": "stream",
     "text": [
      "Name           0\n",
      "Age           20\n",
      "Club          20\n",
      "Overall        0\n",
      "Potential      0\n",
      "Position       0\n",
      "Value (€M)    20\n",
      "dtype: int64\n"
     ]
    }
   ],
   "source": [
    "# Handle NAN values\n",
    "\n",
    "# Check for missing values\n",
    "print(fifa_data.isnull().sum())"
   ]
  },
  {
   "cell_type": "code",
   "execution_count": 12,
   "id": "25c0ac19",
   "metadata": {},
   "outputs": [
    {
     "name": "stdout",
     "output_type": "stream",
     "text": [
      "Name            0\n",
      "Age             0\n",
      "Club            0\n",
      "Overall         0\n",
      "Potential       0\n",
      "Position        0\n",
      "Player Value    0\n",
      "dtype: int64\n"
     ]
    },
    {
     "name": "stderr",
     "output_type": "stream",
     "text": [
      "C:\\Users\\baliddeki\\AppData\\Local\\Temp\\ipykernel_11476\\314477677.py:4: FutureWarning: A value is trying to be set on a copy of a DataFrame or Series through chained assignment using an inplace method.\n",
      "The behavior will change in pandas 3.0. This inplace method will never work because the intermediate object on which we are setting values always behaves as a copy.\n",
      "\n",
      "For example, when doing 'df[col].method(value, inplace=True)', try using 'df.method({col: value}, inplace=True)' or df[col] = df[col].method(value) instead, to perform the operation inplace on the original object.\n",
      "\n",
      "\n",
      "  fifa_data['Age'].fillna(fifa_data['Age'].mean(), inplace=True)\n",
      "C:\\Users\\baliddeki\\AppData\\Local\\Temp\\ipykernel_11476\\314477677.py:7: FutureWarning: A value is trying to be set on a copy of a DataFrame or Series through chained assignment using an inplace method.\n",
      "The behavior will change in pandas 3.0. This inplace method will never work because the intermediate object on which we are setting values always behaves as a copy.\n",
      "\n",
      "For example, when doing 'df[col].method(value, inplace=True)', try using 'df.method({col: value}, inplace=True)' or df[col] = df[col].method(value) instead, to perform the operation inplace on the original object.\n",
      "\n",
      "\n",
      "  fifa_data['Club'].fillna('Free Agent', inplace=True)\n"
     ]
    }
   ],
   "source": [
    "import pandas as pd\n",
    "\n",
    "# Fill missing Age values with the mean age\n",
    "fifa_data['Age'].fillna(fifa_data['Age'].mean(), inplace=True)\n",
    "\n",
    "# Fill missing Club values with 'Free Agent'\n",
    "fifa_data['Club'].fillna('Free Agent', inplace=True)\n",
    "\n",
    "# Renaming Value column for simplicity\n",
    "fifa_data.rename(columns={'Value (€M)': 'Player Value'}, inplace=True)\n",
    "\n",
    "# Get stats of existing player values\n",
    "min_val = fifa_data['Player Value'].min()\n",
    "max_val = fifa_data['Player Value'].max()\n",
    "\n",
    "# Function to estimate player value based on a custom formula\n",
    "def calculate_player_value(row):\n",
    "    base_value = row['Overall'] * 100\n",
    "    if row['Age'] < 30:\n",
    "        age_bonus = (30 - row['Age']) * 100\n",
    "    else:\n",
    "        age_bonus = 0\n",
    "\n",
    "    if row['Position'].startswith('GK'):\n",
    "        position_multiplier = 1.2\n",
    "    elif row['Position'] in ['CB', 'LB', 'RB', 'LWB', 'RWB']:\n",
    "        position_multiplier = 1.5\n",
    "    elif row['Position'] in ['CM', 'CDM', 'CAM', 'LM', 'RM']:\n",
    "        position_multiplier = 1.8\n",
    "    elif row['Position'] in ['ST', 'CF', 'LW', 'RW']:\n",
    "        position_multiplier = 2.0\n",
    "    else:\n",
    "        position_multiplier = 1.0  \n",
    "\n",
    "    estimated_raw_value = base_value + (age_bonus * position_multiplier)\n",
    "    return estimated_raw_value\n",
    "\n",
    "# Calculate raw values for rows with missing Player Value\n",
    "missing_mask = fifa_data['Player Value'].isnull()\n",
    "raw_values = fifa_data[missing_mask].apply(calculate_player_value, axis=1)\n",
    "\n",
    "# Scale raw values to match the min–max of actual Player Values\n",
    "scaled_values = ((raw_values - raw_values.min()) / (raw_values.max() - raw_values.min())) \\\n",
    "                * (max_val - min_val) + min_val\n",
    "\n",
    "# Fill missing player values using the scaled values\n",
    "fifa_data.loc[missing_mask, 'Player Value'] = scaled_values\n",
    "\n",
    "# Check for missing values are handled\n",
    "print(fifa_data.isnull().sum())\n"
   ]
  },
  {
   "cell_type": "markdown",
   "id": "365501ca",
   "metadata": {},
   "source": [
    "# Data Analysis"
   ]
  },
  {
   "cell_type": "code",
   "execution_count": 13,
   "id": "0e1b3acd",
   "metadata": {},
   "outputs": [
    {
     "name": "stdout",
     "output_type": "stream",
     "text": [
      "         Name        Age           Club  Overall  Potential Position  \\\n",
      "0    Player 1  27.527778            PSG       82         83       GK   \n",
      "1    Player 2  37.000000            PSG       88         93       RW   \n",
      "2    Player 3  32.000000       Man City       70         71       ST   \n",
      "3    Player 4  28.000000       Juventus       77         77       ST   \n",
      "4    Player 5  25.000000  Bayern Munich       71         76       No   \n",
      "5    Player 6  27.527778    Real Madrid       68         69       RW   \n",
      "6    Player 7  24.000000      Barcelona       69         73       ST   \n",
      "7    Player 8  36.000000     Free Agent       76         78       LW   \n",
      "8    Player 9  28.000000       Juventus       66         66       RW   \n",
      "9   Player 10  28.000000            PSG       72         73       ST   \n",
      "10  Player 11  38.000000       Man City       68         68       LW   \n",
      "11  Player 12  21.000000       Man City       86         86       CM   \n",
      "12  Player 13  25.000000    Real Madrid       61         66       ST   \n",
      "13  Player 14  20.000000            PSG       64         69       RW   \n",
      "14  Player 15  39.000000       Juventus       88         90       CB   \n",
      "15  Player 16  38.000000     Free Agent       78         82       No   \n",
      "16  Player 17  19.000000            PSG       67         67       CB   \n",
      "17  Player 18  29.000000    Real Madrid       60         61       LW   \n",
      "18  Player 19  23.000000    Real Madrid       81         84       CM   \n",
      "19  Player 20  19.000000            PSG       76         76       GK   \n",
      "\n",
      "    Player Value  \n",
      "0      71.010000  \n",
      "1      82.270000  \n",
      "2      12.010870  \n",
      "3      85.940000  \n",
      "4     108.060000  \n",
      "5      75.270000  \n",
      "6      65.230000  \n",
      "7      53.210000  \n",
      "8      69.720000  \n",
      "9      43.290000  \n",
      "10     47.590000  \n",
      "11     64.290000  \n",
      "12      8.930000  \n",
      "13     28.250000  \n",
      "14     65.600000  \n",
      "15     37.506522  \n",
      "16     40.610000  \n",
      "17     87.940000  \n",
      "18     83.550000  \n",
      "19     20.840000  \n"
     ]
    }
   ],
   "source": [
    "# First 20 rows after handling missing values\n",
    "print(fifa_data.head(20))"
   ]
  },
  {
   "cell_type": "code",
   "execution_count": 14,
   "id": "5653370b",
   "metadata": {},
   "outputs": [
    {
     "name": "stdout",
     "output_type": "stream",
     "text": [
      "Club\n",
      "Barcelona        55.782000\n",
      "Bayern Munich    68.932848\n",
      "Free Agent       67.119826\n",
      "Juventus         64.235734\n",
      "Man City         63.231598\n",
      "PSG              58.384733\n",
      "Real Madrid      62.906031\n",
      "Name: Player Value, dtype: float64\n"
     ]
    }
   ],
   "source": [
    "# Average value of players by club\n",
    "average_value_by_club = fifa_data.groupby('Club')['Player Value'].mean()\n",
    "print(average_value_by_club)\n"
   ]
  },
  {
   "cell_type": "code",
   "execution_count": 17,
   "id": "37088ffd",
   "metadata": {},
   "outputs": [
    {
     "name": "stdout",
     "output_type": "stream",
     "text": [
      "           Name  Player Value        Age  Overall\n",
      "24    Player 25    119.730000  29.000000       90\n",
      "133  Player 134    119.730000  24.000000       93\n",
      "154  Player 155    118.660000  27.527778       92\n",
      "186  Player 187    118.260000  34.000000       86\n",
      "139  Player 140    117.490000  30.000000       89\n",
      "70    Player 71    117.180435  21.000000       85\n",
      "107  Player 108    117.090000  29.000000       80\n",
      "182  Player 183    116.970000  20.000000       84\n",
      "157  Player 158    115.560000  27.527778       89\n",
      "49    Player 50    115.130000  24.000000       78\n"
     ]
    }
   ],
   "source": [
    "# Display top 10 players\n",
    "top_10 = fifa_data.sort_values('Player Value', ascending=False).head(10)\n",
    "print(top_10[['Name', 'Player Value', 'Age', 'Overall']])\n"
   ]
  },
  {
   "cell_type": "code",
   "execution_count": 16,
   "id": "72eef47f",
   "metadata": {},
   "outputs": [
    {
     "name": "stdout",
     "output_type": "stream",
     "text": [
      "Club\n",
      "Juventus         78.031250\n",
      "Man City         77.243243\n",
      "Real Madrid      77.096774\n",
      "Bayern Munich    76.750000\n",
      "Barcelona        75.480000\n",
      "PSG              74.828571\n",
      "Free Agent       74.600000\n",
      "Name: Overall, dtype: float64\n"
     ]
    }
   ],
   "source": [
    "# Compare club overall\n",
    "average_overall_by_club = fifa_data.groupby('Club')['Overall'].mean()\n",
    "print(average_overall_by_club.sort_values(ascending=False).head(10))  # Top 10 clubs\n"
   ]
  },
  {
   "cell_type": "code",
   "execution_count": null,
   "id": "9d48313d",
   "metadata": {},
   "outputs": [],
   "source": []
  },
  {
   "cell_type": "markdown",
   "id": "40e14b12",
   "metadata": {},
   "source": [
    "# Data Visualization\n",
    "\n"
   ]
  },
  {
   "cell_type": "markdown",
   "id": "9544f074",
   "metadata": {},
   "source": [
    "**Bar Chart: Player vs Value**"
   ]
  },
  {
   "cell_type": "code",
   "execution_count": 20,
   "id": "265723bd",
   "metadata": {},
   "outputs": [
    {
     "data": {
      "image/png": "[encoded data removed]",
      "text/plain": [
       "<Figure size 1000x500 with 1 Axes>"
      ]
     },
     "metadata": {},
     "output_type": "display_data"
    }
   ],
   "source": [
    "import matplotlib.pyplot as plt\n",
    "\n",
    "plt.figure(figsize=(10, 5))\n",
    "plt.bar(top_10['Name'], top_10['Player Value'], color='lightblue')\n",
    "plt.title('Top 10 Most Valuable Players')\n",
    "plt.xlabel('Player')\n",
    "plt.ylabel('Player Value (€)')\n",
    "plt.xticks(rotation=45)\n",
    "plt.grid(axis='y')\n",
    "plt.tight_layout()\n",
    "plt.show()\n"
   ]
  },
  {
   "cell_type": "markdown",
   "id": "bd37de40",
   "metadata": {},
   "source": []
  },
  {
   "cell_type": "markdown",
   "id": "2a31a754",
   "metadata": {},
   "source": [
    "**Scatter Plot: Age vs Overall**"
   ]
  },
  {
   "cell_type": "code",
   "execution_count": 21,
   "id": "9ad22b6f",
   "metadata": {},
   "outputs": [
    {
     "data": {
      "image/png": "[encoded data removed]",
      "text/plain": [
       "<Figure size 800x500 with 1 Axes>"
      ]
     },
     "metadata": {},
     "output_type": "display_data"
    }
   ],
   "source": [
    "plt.figure(figsize=(8, 5))\n",
    "plt.scatter(top_10['Age'], top_10['Overall'], color='royalblue', s=100)\n",
    "plt.title('Age vs Overall (Top 10 Players)')\n",
    "plt.xlabel('Age')\n",
    "plt.ylabel('Overall Rating')\n",
    "plt.grid(True)\n",
    "plt.tight_layout()\n",
    "plt.show()\n"
   ]
  },
  {
   "cell_type": "markdown",
   "id": "3dc7c73a",
   "metadata": {},
   "source": []
  },
  {
   "cell_type": "code",
   "execution_count": 22,
   "id": "2a6536f6",
   "metadata": {},
   "outputs": [],
   "source": [
    "# Save cleaned file\n",
    "cleaned_fifa_dataset = fifa_data.copy()\n",
    "cleaned_fifa_dataset.to_csv('cleaned_fifa_dataset.csv', index=False)"
   ]
  },
  {
   "cell_type": "markdown",
   "id": "b3d1781e",
   "metadata": {},
   "source": []
  }
 ],
 "metadata": {
  "kernelspec": {
   "display_name": "Python 3",
   "language": "python",
   "name": "python3"
  },
  "language_info": {
   "codemirror_mode": {
    "name": "ipython",
    "version": 3
   },
   "file_extension": ".py",
   "mimetype": "text/x-python",
   "name": "python",
   "nbconvert_exporter": "python",
   "pygments_lexer": "ipython3",
   "version": "3.12.10"
  }
 },
 "nbformat": 4,
 "nbformat_minor": 5
}
